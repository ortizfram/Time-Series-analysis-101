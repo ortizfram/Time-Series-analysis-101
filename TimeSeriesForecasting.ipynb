{
 "cells": [
  {
   "cell_type": "markdown",
   "id": "de905bf6-6e1a-40ad-b13d-452d82a51de3",
   "metadata": {},
   "source": [
    "# LIBRARIES AND READING"
   ]
  },
  {
   "cell_type": "code",
   "execution_count": 1,
   "id": "eb02c814-1559-44bb-bbe3-64d54f4270d7",
   "metadata": {},
   "outputs": [],
   "source": [
    "import warnings\n",
    "warnings.simplefilter('ignore')"
   ]
  },
  {
   "cell_type": "code",
   "execution_count": 4,
   "id": "283e4707-396b-4894-b7cb-449ed9451d80",
   "metadata": {},
   "outputs": [],
   "source": [
    "import os"
   ]
  },
  {
   "cell_type": "code",
   "execution_count": 2,
   "id": "13d507a4-8f42-4e65-b130-0d57635a8809",
   "metadata": {},
   "outputs": [],
   "source": [
    "import pandas as pd\n",
    "import numpy as np\n",
    "import matplotlib.pyplot as plt \n",
    "import seaborn as sns"
   ]
  },
  {
   "cell_type": "code",
   "execution_count": 3,
   "id": "ea47a0cc-34a2-4a37-b4e4-68f3a98bda99",
   "metadata": {},
   "outputs": [],
   "source": [
    "import statsmodels.api as sm\n",
    "import plotly.express as px\n",
    "import datetime as dt"
   ]
  },
  {
   "cell_type": "markdown",
   "id": "86f21828-c8d1-4fbd-8aa6-f7a04e8ae3fc",
   "metadata": {},
   "source": [
    "---"
   ]
  },
  {
   "cell_type": "code",
   "execution_count": 7,
   "id": "0caef2ef-e046-46a4-9463-73e33b579832",
   "metadata": {},
   "outputs": [
    {
     "data": {
      "text/plain": [
       "['holidays_events.csv',\n",
       " 'oil.csv',\n",
       " 'sample_submission.csv',\n",
       " 'stores.csv',\n",
       " 'test.csv',\n",
       " 'train.csv',\n",
       " 'transactions.csv']"
      ]
     },
     "execution_count": 7,
     "metadata": {},
     "output_type": "execute_result"
    }
   ],
   "source": [
    "# checking file names\n",
    "data_path = \"data/\"\n",
    "list_dir = os.listdir(data_path)\n",
    "list_dir"
   ]
  },
  {
   "cell_type": "code",
   "execution_count": 8,
   "id": "98cef120-b805-4586-b61f-0b544de4031a",
   "metadata": {},
   "outputs": [],
   "source": [
    "# Reading\n",
    "train = pd.read_csv('data/train.csv')\n",
    "test = pd.read_csv('data/test.csv')\n",
    "transactions = pd.read_csv('data/transactions.csv')\n",
    "stores = pd.read_csv('data/stores.csv')"
   ]
  },
  {
   "cell_type": "markdown",
   "id": "6f75c608-fae5-4ee3-b40a-e8d1d19742a8",
   "metadata": {},
   "source": [
    "---\n",
    "#### Cheking column names"
   ]
  },
  {
   "cell_type": "code",
   "execution_count": 16,
   "id": "7df4e783-dbee-4d74-925f-6af6564e4ad9",
   "metadata": {},
   "outputs": [
    {
     "name": "stdout",
     "output_type": "stream",
     "text": [
      "<class 'pandas.core.frame.DataFrame'>\n",
      "RangeIndex: 3000888 entries, 0 to 3000887\n",
      "Data columns (total 6 columns):\n",
      " #   Column       Dtype  \n",
      "---  ------       -----  \n",
      " 0   id           int64  \n",
      " 1   date         object \n",
      " 2   store_nbr    int64  \n",
      " 3   family       object \n",
      " 4   sales        float64\n",
      " 5   onpromotion  int64  \n",
      "dtypes: float64(1), int64(3), object(2)\n",
      "memory usage: 137.4+ MB\n",
      "<class 'pandas.core.frame.DataFrame'>\n",
      "RangeIndex: 28512 entries, 0 to 28511\n",
      "Data columns (total 5 columns):\n",
      " #   Column       Non-Null Count  Dtype \n",
      "---  ------       --------------  ----- \n",
      " 0   id           28512 non-null  int64 \n",
      " 1   date         28512 non-null  object\n",
      " 2   store_nbr    28512 non-null  int64 \n",
      " 3   family       28512 non-null  object\n",
      " 4   onpromotion  28512 non-null  int64 \n",
      "dtypes: int64(3), object(2)\n",
      "memory usage: 1.1+ MB\n",
      "<class 'pandas.core.frame.DataFrame'>\n",
      "RangeIndex: 83488 entries, 0 to 83487\n",
      "Data columns (total 3 columns):\n",
      " #   Column        Non-Null Count  Dtype \n",
      "---  ------        --------------  ----- \n",
      " 0   date          83488 non-null  object\n",
      " 1   store_nbr     83488 non-null  int64 \n",
      " 2   transactions  83488 non-null  int64 \n",
      "dtypes: int64(2), object(1)\n",
      "memory usage: 1.9+ MB\n",
      "<class 'pandas.core.frame.DataFrame'>\n",
      "RangeIndex: 54 entries, 0 to 53\n",
      "Data columns (total 5 columns):\n",
      " #   Column     Non-Null Count  Dtype \n",
      "---  ------     --------------  ----- \n",
      " 0   store_nbr  54 non-null     int64 \n",
      " 1   city       54 non-null     object\n",
      " 2   state      54 non-null     object\n",
      " 3   type       54 non-null     object\n",
      " 4   cluster    54 non-null     int64 \n",
      "dtypes: int64(2), object(3)\n",
      "memory usage: 2.2+ KB\n",
      "None None None None\n"
     ]
    }
   ],
   "source": [
    "print(train.info(),test.info(),transactions.info(),stores.info())"
   ]
  },
  {
   "cell_type": "markdown",
   "id": "bf047257-962f-4849-b6a3-36e349ff9881",
   "metadata": {},
   "source": [
    "---\n",
    "#### changing datatypes"
   ]
  },
  {
   "cell_type": "code",
   "execution_count": 17,
   "id": "1369a788-30a4-4a92-af37-b50b823b6b5f",
   "metadata": {},
   "outputs": [],
   "source": [
    "train['date'] = pd.to_datetime(train.date)\n",
    "test['date'] = pd.to_datetime(test.date)\n",
    "transactions['date'] = pd.to_datetime(transactions.date)"
   ]
  },
  {
   "cell_type": "code",
   "execution_count": 18,
   "id": "ad1f98df-252c-400c-8975-d714e136e9e3",
   "metadata": {},
   "outputs": [],
   "source": [
    "train.onpromotion = train.onpromotion.astype(\"float16\")\n",
    "train.sales = train.sales.astype(\"float32\")\n",
    "stores.cluster = stores.cluster.astype(\"int8\")"
   ]
  }
 ],
 "metadata": {
  "kernelspec": {
   "display_name": "Python 3 (ipykernel)",
   "language": "python",
   "name": "python3"
  },
  "language_info": {
   "codemirror_mode": {
    "name": "ipython",
    "version": 3
   },
   "file_extension": ".py",
   "mimetype": "text/x-python",
   "name": "python",
   "nbconvert_exporter": "python",
   "pygments_lexer": "ipython3",
   "version": "3.10.7"
  }
 },
 "nbformat": 4,
 "nbformat_minor": 5
}
